{
  "metadata": {
    "language_info": {
      "codemirror_mode": {
        "name": "python",
        "version": 3
      },
      "file_extension": ".py",
      "mimetype": "text/x-python",
      "name": "python",
      "nbconvert_exporter": "python",
      "pygments_lexer": "ipython3",
      "version": "3.8"
    },
    "kernelspec": {
      "name": "python",
      "display_name": "Python (Pyodide)",
      "language": "python"
    },
    "colab": {
      "provenance": []
    }
  },
  "nbformat_minor": 0,
  "nbformat": 4,
  "cells": [
    {
      "cell_type": "code",
      "source": [
        "class CountSort:\n",
        "\n",
        "    def __init__(self, M):\n",
        "        self.M = M\n",
        "\n",
        "    def sort(self, A):\n",
        "        n = len(A)\n",
        "        B = [0] * self.M  # Initialize array B of size M\n",
        "\n",
        "        # Populate counts\n",
        "        for j in range(n):\n",
        "            B[A[j]-1] += 1  # -1 because list index starts from 0 in Python\n",
        "\n",
        "        # Accumulate counts\n",
        "        for i in range(1, self.M):\n",
        "            B[i] += B[i-1]\n",
        "\n",
        "        A_prime = [0] * n\n",
        "        for j in range(n-1, -1, -1):\n",
        "            A_prime[B[A[j]-1]-1] = A[j]  # -1 because list index starts from 0\n",
        "            B[A[j]-1] -= 1\n",
        "\n",
        "        return A_prime\n",
        "\n",
        "# Example\n",
        "M = 10  # Just an example value for M\n",
        "A = [5,2,9,1,5,6]\n",
        "count_sort = CountSort(M)\n",
        "sorted_A = count_sort.sort(A)\n",
        "print(sorted_A)\n"
      ],
      "metadata": {
        "trusted": true,
        "id": "FrC-aGygucJw",
        "outputId": "9f82e375-f5b7-405a-e34b-d28c68a92f5f"
      },
      "execution_count": null,
      "outputs": [
        {
          "name": "stdout",
          "text": "[1, 2, 5, 5, 6, 9]\n",
          "output_type": "stream"
        }
      ]
    },
    {
      "cell_type": "markdown",
      "source": [
        "# **Complexity Analysis**\n",
        "The time and space complexity of Counting Sort are as follows:\n",
        "\n",
        "Time Complexity: O(n + M)\n",
        "\n",
        "The first loop, which counts each element, runs in O(n).\n",
        "The second loop, which computes the cumulative count, runs in O(M).\n",
        "The third loop, which actually sorts the array, again runs in O(n).\n",
        "Therefore, the overall time complexity is O(n + M), where n is the number of elements in the array and M is the range of the input values.\n",
        "Space Complexity: O(M)\n",
        "\n",
        "The extra space used by the algorithm is for the count array B, which has a size of M + 1. Therefore, the space complexity is O(M).\n",
        "\n",
        "Counting Sort is most efficient when M (the range of input values) is not significantly larger than n (the number of elements to sort). If M is much larger than n, the time and space efficiency of Counting Sort can be negatively impacted."
      ],
      "metadata": {
        "id": "42jVusvswPal"
      }
    },
    {
      "cell_type": "code",
      "source": [
        "def hoare_partition(A, p, r):\n",
        "    x = A[p]\n",
        "    i = p - 1\n",
        "    j = r + 1\n",
        "    while True:\n",
        "        # Decrement j until an element <= x is found\n",
        "        j -= 1\n",
        "        while A[j] > x:\n",
        "            j -= 1\n",
        "        # Increment i until an element >= x is found\n",
        "        i += 1\n",
        "        while A[i] < x:\n",
        "            i += 1\n",
        "        # If the pointers have not crossed, swap elements\n",
        "        if i < j:\n",
        "            A[i], A[j] = A[j], A[i]\n",
        "        else:\n",
        "            return j\n",
        "\n"
      ],
      "metadata": {
        "trusted": true,
        "id": "u0LosFmJucJ7"
      },
      "execution_count": null,
      "outputs": []
    },
    {
      "cell_type": "code",
      "source": [
        "def quicksort(arr, p=0, r=None):\n",
        "    if r is None:\n",
        "        r = len(arr) - 1\n",
        "\n",
        "    if p < r:\n",
        "        q = hoare_partition(arr, p, r)\n",
        "        quicksort(arr, p, q)\n",
        "        quicksort(arr, q + 1, r)\n",
        "    return arr\n",
        "\n",
        "# Test\n",
        "arr = [13,19,9,5,12,8,7,4,11,2,6,21]\n",
        "print(quicksort(arr))\n"
      ],
      "metadata": {
        "trusted": true,
        "id": "Kxr9_t5LucJ9",
        "outputId": "727d8f33-9491-4d39-a730-02398b253aec"
      },
      "execution_count": null,
      "outputs": [
        {
          "name": "stdout",
          "text": "[2, 4, 5, 6, 7, 8, 9, 11, 12, 13, 19, 21]\n",
          "output_type": "stream"
        }
      ]
    },
    {
      "cell_type": "code",
      "source": [],
      "metadata": {
        "id": "Ek0wE7R_ucJ-"
      },
      "execution_count": null,
      "outputs": []
    }
  ]
}