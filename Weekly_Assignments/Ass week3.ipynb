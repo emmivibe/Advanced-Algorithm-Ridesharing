{
  "metadata": {
    "language_info": {
      "codemirror_mode": {
        "name": "python",
        "version": 3
      },
      "file_extension": ".py",
      "mimetype": "text/x-python",
      "name": "python",
      "nbconvert_exporter": "python",
      "pygments_lexer": "ipython3",
      "version": "3.8"
    },
    "kernelspec": {
      "name": "python",
      "display_name": "Python (Pyodide)",
      "language": "python"
    }
  },
  "nbformat_minor": 4,
  "nbformat": 4,
  "cells": [
    {
      "cell_type": "code",
      "source": "from collections import defaultdict, deque\n\nclass Graph:\n    def __init__(self, vertices):\n        self.graph = defaultdict(list)\n        self.V = vertices\n\n    def addEdge(self, u, v, w):\n        self.graph[u].append((v, w))\n\n    def topologicalSortUtil(self, v, visited, stack):\n        visited[v] = True\n\n        if v in self.graph.keys():\n            for node, weight in self.graph[v]:\n                if visited[node] == False:\n                    self.topologicalSortUtil(node, visited, stack)\n\n        stack.append(v)\n\n    def topologicalSort(self):\n        visited = [False] * self.V\n        stack = deque()\n\n        for i in range(self.V):\n            if visited[i] == False:\n                self.topologicalSortUtil(i, visited, stack)\n\n        return stack\n\n    def longestPath(self, s):\n        stack = self.topologicalSort()\n        dist = [-float(\"inf\")] * (self.V)\n        dist[s] = 0\n\n        while stack:\n            i = stack.pop()\n\n            for node, weight in self.graph[i]:\n                if dist[node] < dist[i] + weight:\n                    dist[node] = dist[i] + weight\n\n        return dist\n\n# Example usage:\ng = Graph(6)\ng.addEdge(0, 1, 5)\ng.addEdge(0, 2, 3)\ng.addEdge(1, 3, 6)\ng.addEdge(1, 2, 2)\ng.addEdge(2, 4, 4)\ng.addEdge(2, 5, 2)\ng.addEdge(2, 3, 7)\ng.addEdge(3, 5, 1)\ng.addEdge(3, 4, -1)\ng.addEdge(4, 5, -2)\n\ns = 1\nprint(\"Following are the longest distances from the source vertex \", s)\ndist = g.longestPath(s)\nfor i in range(len(dist)):\n    print(f\"{s} -> {i} = {dist[i]}\")\n",
      "metadata": {
        "trusted": true
      },
      "execution_count": 1,
      "outputs": [
        {
          "name": "stdout",
          "text": "Following are the longest distances from the source vertex  1\n1 -> 0 = -inf\n1 -> 1 = 0\n1 -> 2 = 2\n1 -> 3 = 9\n1 -> 4 = 8\n1 -> 5 = 10\n",
          "output_type": "stream"
        }
      ]
    },
    {
      "cell_type": "code",
      "source": "def greedy_coin_change(coins, V):\n    # Sort the coins in descending order\n    coins.sort(reverse=True)\n    \n    # Initialize result\n    res = []\n    \n    for coin in coins:\n        # Find denominations\n        while V >= coin:\n            V -= coin\n            res.append(coin)\n    \n    return res\n\n# Example usage:\ncoins = [1, 2, 5, 10, 20, 50, 100, 500, 2000]\nV = 93\nprint(\"Coins needed are:\", greedy_coin_change(coins, V))\n",
      "metadata": {
        "trusted": true
      },
      "execution_count": 2,
      "outputs": [
        {
          "name": "stdout",
          "text": "Coins needed are: [50, 20, 20, 2, 1]\n",
          "output_type": "stream"
        }
      ]
    },
    {
      "cell_type": "code",
      "source": "",
      "metadata": {},
      "execution_count": null,
      "outputs": []
    }
  ]
}